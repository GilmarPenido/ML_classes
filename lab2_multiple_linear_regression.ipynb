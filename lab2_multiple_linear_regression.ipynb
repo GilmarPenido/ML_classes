{
  "nbformat": 4,
  "nbformat_minor": 0,
  "metadata": {
    "colab": {
      "name": "lab2_multiple_linear_regression.ipynb",
      "version": "0.3.2",
      "provenance": [],
      "collapsed_sections": []
    },
    "kernelspec": {
      "name": "python3",
      "display_name": "Python 3"
    }
  },
  "cells": [
    {
      "metadata": {
        "id": "7FAo7i3vWH6e",
        "colab_type": "text"
      },
      "cell_type": "markdown",
      "source": [
        "# Lab 2\n",
        "\n",
        "## Regressão Linear Múltipla\n",
        "\n",
        "Vamos comparar os resultados de 3 regressões simples estimadas com os dados do banco *Advertisement*, uma para cada preditor e de uma regressão múltipla com os 3 preditores sendo controlados ao mesmo tempo."
      ]
    },
    {
      "metadata": {
        "id": "2lKNnINUWX2S",
        "colab_type": "code",
        "colab": {}
      },
      "cell_type": "code",
      "source": [
        "import pandas as pd\n",
        "import statsmodels.formula.api as sms\n",
        "import matplotlib.pyplot as plt\n",
        "import numpy as np\n",
        "%matplotlib inline"
      ],
      "execution_count": 0,
      "outputs": []
    },
    {
      "metadata": {
        "id": "K1aj9o_OWbti",
        "colab_type": "code",
        "colab": {
          "base_uri": "https://localhost:8080/",
          "height": 261
        },
        "outputId": "e9b34a8d-6a38-42c8-80f0-cccb64fb69b0"
      },
      "cell_type": "code",
      "source": [
        "# Lendo os dados da web\n",
        "adv = pd.DataFrame.from_csv(\"http://www-bcf.usc.edu/~gareth/ISL/Advertising.csv\")\n",
        "adv.head()"
      ],
      "execution_count": 2,
      "outputs": [
        {
          "output_type": "stream",
          "text": [
            "/usr/local/lib/python3.6/dist-packages/ipykernel_launcher.py:1: FutureWarning: from_csv is deprecated. Please use read_csv(...) instead. Note that some of the default arguments are different, so please refer to the documentation for from_csv when changing your function calls\n",
            "  \"\"\"Entry point for launching an IPython kernel.\n"
          ],
          "name": "stderr"
        },
        {
          "output_type": "execute_result",
          "data": {
            "text/html": [
              "<div>\n",
              "<style scoped>\n",
              "    .dataframe tbody tr th:only-of-type {\n",
              "        vertical-align: middle;\n",
              "    }\n",
              "\n",
              "    .dataframe tbody tr th {\n",
              "        vertical-align: top;\n",
              "    }\n",
              "\n",
              "    .dataframe thead th {\n",
              "        text-align: right;\n",
              "    }\n",
              "</style>\n",
              "<table border=\"1\" class=\"dataframe\">\n",
              "  <thead>\n",
              "    <tr style=\"text-align: right;\">\n",
              "      <th></th>\n",
              "      <th>TV</th>\n",
              "      <th>radio</th>\n",
              "      <th>newspaper</th>\n",
              "      <th>sales</th>\n",
              "    </tr>\n",
              "  </thead>\n",
              "  <tbody>\n",
              "    <tr>\n",
              "      <th>1</th>\n",
              "      <td>230.1</td>\n",
              "      <td>37.8</td>\n",
              "      <td>69.2</td>\n",
              "      <td>22.1</td>\n",
              "    </tr>\n",
              "    <tr>\n",
              "      <th>2</th>\n",
              "      <td>44.5</td>\n",
              "      <td>39.3</td>\n",
              "      <td>45.1</td>\n",
              "      <td>10.4</td>\n",
              "    </tr>\n",
              "    <tr>\n",
              "      <th>3</th>\n",
              "      <td>17.2</td>\n",
              "      <td>45.9</td>\n",
              "      <td>69.3</td>\n",
              "      <td>9.3</td>\n",
              "    </tr>\n",
              "    <tr>\n",
              "      <th>4</th>\n",
              "      <td>151.5</td>\n",
              "      <td>41.3</td>\n",
              "      <td>58.5</td>\n",
              "      <td>18.5</td>\n",
              "    </tr>\n",
              "    <tr>\n",
              "      <th>5</th>\n",
              "      <td>180.8</td>\n",
              "      <td>10.8</td>\n",
              "      <td>58.4</td>\n",
              "      <td>12.9</td>\n",
              "    </tr>\n",
              "  </tbody>\n",
              "</table>\n",
              "</div>"
            ],
            "text/plain": [
              "      TV  radio  newspaper  sales\n",
              "1  230.1   37.8       69.2   22.1\n",
              "2   44.5   39.3       45.1   10.4\n",
              "3   17.2   45.9       69.3    9.3\n",
              "4  151.5   41.3       58.5   18.5\n",
              "5  180.8   10.8       58.4   12.9"
            ]
          },
          "metadata": {
            "tags": []
          },
          "execution_count": 2
        }
      ]
    },
    {
      "metadata": {
        "id": "I3ZhaqtWXU1s",
        "colab_type": "text"
      },
      "cell_type": "markdown",
      "source": [
        "### 3 Regressões Simples"
      ]
    },
    {
      "metadata": {
        "id": "xUgoEdzLWePW",
        "colab_type": "code",
        "colab": {
          "base_uri": "https://localhost:8080/",
          "height": 451
        },
        "outputId": "07d9786a-8b7c-4c27-fcb1-a3cee1fd4523"
      },
      "cell_type": "code",
      "source": [
        "model_tv = sms.ols(formula=\"sales ~ TV\", data=adv).fit()\n",
        "print(model_tv.summary())"
      ],
      "execution_count": 4,
      "outputs": [
        {
          "output_type": "stream",
          "text": [
            "                            OLS Regression Results                            \n",
            "==============================================================================\n",
            "Dep. Variable:                  sales   R-squared:                       0.612\n",
            "Model:                            OLS   Adj. R-squared:                  0.610\n",
            "Method:                 Least Squares   F-statistic:                     312.1\n",
            "Date:                Wed, 27 Feb 2019   Prob (F-statistic):           1.47e-42\n",
            "Time:                        19:08:47   Log-Likelihood:                -519.05\n",
            "No. Observations:                 200   AIC:                             1042.\n",
            "Df Residuals:                     198   BIC:                             1049.\n",
            "Df Model:                           1                                         \n",
            "Covariance Type:            nonrobust                                         \n",
            "==============================================================================\n",
            "                 coef    std err          t      P>|t|      [0.025      0.975]\n",
            "------------------------------------------------------------------------------\n",
            "Intercept      7.0326      0.458     15.360      0.000       6.130       7.935\n",
            "TV             0.0475      0.003     17.668      0.000       0.042       0.053\n",
            "==============================================================================\n",
            "Omnibus:                        0.531   Durbin-Watson:                   1.935\n",
            "Prob(Omnibus):                  0.767   Jarque-Bera (JB):                0.669\n",
            "Skew:                          -0.089   Prob(JB):                        0.716\n",
            "Kurtosis:                       2.779   Cond. No.                         338.\n",
            "==============================================================================\n",
            "\n",
            "Warnings:\n",
            "[1] Standard Errors assume that the covariance matrix of the errors is correctly specified.\n"
          ],
          "name": "stdout"
        }
      ]
    },
    {
      "metadata": {
        "id": "tsD6VFOsW_Tj",
        "colab_type": "code",
        "colab": {
          "base_uri": "https://localhost:8080/",
          "height": 451
        },
        "outputId": "d7e4d6ea-b530-43ff-9889-05f71cefc94a"
      },
      "cell_type": "code",
      "source": [
        "model_radio = sms.ols(formula=\"sales ~ radio\", data=adv).fit()\n",
        "print(model_radio.summary())"
      ],
      "execution_count": 5,
      "outputs": [
        {
          "output_type": "stream",
          "text": [
            "                            OLS Regression Results                            \n",
            "==============================================================================\n",
            "Dep. Variable:                  sales   R-squared:                       0.332\n",
            "Model:                            OLS   Adj. R-squared:                  0.329\n",
            "Method:                 Least Squares   F-statistic:                     98.42\n",
            "Date:                Wed, 27 Feb 2019   Prob (F-statistic):           4.35e-19\n",
            "Time:                        19:09:19   Log-Likelihood:                -573.34\n",
            "No. Observations:                 200   AIC:                             1151.\n",
            "Df Residuals:                     198   BIC:                             1157.\n",
            "Df Model:                           1                                         \n",
            "Covariance Type:            nonrobust                                         \n",
            "==============================================================================\n",
            "                 coef    std err          t      P>|t|      [0.025      0.975]\n",
            "------------------------------------------------------------------------------\n",
            "Intercept      9.3116      0.563     16.542      0.000       8.202      10.422\n",
            "radio          0.2025      0.020      9.921      0.000       0.162       0.243\n",
            "==============================================================================\n",
            "Omnibus:                       19.358   Durbin-Watson:                   1.946\n",
            "Prob(Omnibus):                  0.000   Jarque-Bera (JB):               21.910\n",
            "Skew:                          -0.764   Prob(JB):                     1.75e-05\n",
            "Kurtosis:                       3.544   Cond. No.                         51.4\n",
            "==============================================================================\n",
            "\n",
            "Warnings:\n",
            "[1] Standard Errors assume that the covariance matrix of the errors is correctly specified.\n"
          ],
          "name": "stdout"
        }
      ]
    },
    {
      "metadata": {
        "id": "HJvB2zMWW9Xh",
        "colab_type": "code",
        "colab": {
          "base_uri": "https://localhost:8080/",
          "height": 451
        },
        "outputId": "a75f8f5c-48af-449a-d998-0145dfae03aa"
      },
      "cell_type": "code",
      "source": [
        "model_news = sms.ols(formula=\"sales ~ newspaper\", data=adv).fit()\n",
        "print(model_news.summary())"
      ],
      "execution_count": 6,
      "outputs": [
        {
          "output_type": "stream",
          "text": [
            "                            OLS Regression Results                            \n",
            "==============================================================================\n",
            "Dep. Variable:                  sales   R-squared:                       0.052\n",
            "Model:                            OLS   Adj. R-squared:                  0.047\n",
            "Method:                 Least Squares   F-statistic:                     10.89\n",
            "Date:                Wed, 27 Feb 2019   Prob (F-statistic):            0.00115\n",
            "Time:                        19:09:35   Log-Likelihood:                -608.34\n",
            "No. Observations:                 200   AIC:                             1221.\n",
            "Df Residuals:                     198   BIC:                             1227.\n",
            "Df Model:                           1                                         \n",
            "Covariance Type:            nonrobust                                         \n",
            "==============================================================================\n",
            "                 coef    std err          t      P>|t|      [0.025      0.975]\n",
            "------------------------------------------------------------------------------\n",
            "Intercept     12.3514      0.621     19.876      0.000      11.126      13.577\n",
            "newspaper      0.0547      0.017      3.300      0.001       0.022       0.087\n",
            "==============================================================================\n",
            "Omnibus:                        6.231   Durbin-Watson:                   1.983\n",
            "Prob(Omnibus):                  0.044   Jarque-Bera (JB):                5.483\n",
            "Skew:                           0.330   Prob(JB):                       0.0645\n",
            "Kurtosis:                       2.527   Cond. No.                         64.7\n",
            "==============================================================================\n",
            "\n",
            "Warnings:\n",
            "[1] Standard Errors assume that the covariance matrix of the errors is correctly specified.\n"
          ],
          "name": "stdout"
        }
      ]
    },
    {
      "metadata": {
        "id": "KEiV83EGXMlD",
        "colab_type": "text"
      },
      "cell_type": "markdown",
      "source": [
        "### Adicionando os 3 preditores"
      ]
    },
    {
      "metadata": {
        "id": "F88MuNODXLGY",
        "colab_type": "code",
        "colab": {
          "base_uri": "https://localhost:8080/",
          "height": 69
        },
        "outputId": "90863201-47f5-4a1b-ecfc-e469fe535983"
      },
      "cell_type": "code",
      "source": [
        "# Vamos exibir os 3 parâmetros juntos só para facilitar a comparação\n",
        "print(\"Modelo TV:\\t\" + str(model_tv.params[1]))\n",
        "print(\"Modelo rádio:\\t\" + str(model_radio.params[1]))\n",
        "print(\"Modelo News:\\t\" + str(model_news.params[1]))"
      ],
      "execution_count": 8,
      "outputs": [
        {
          "output_type": "stream",
          "text": [
            "Modelo TV:\t0.047536640433019764\n",
            "Modelo rádio:\t0.20249578339243982\n",
            "Modelo News:\t0.05469309847227315\n"
          ],
          "name": "stdout"
        }
      ]
    },
    {
      "metadata": {
        "id": "uj2VyNBEXspm",
        "colab_type": "code",
        "colab": {
          "base_uri": "https://localhost:8080/",
          "height": 486
        },
        "outputId": "04b8845a-459d-4666-a4fd-9176449c97bc"
      },
      "cell_type": "code",
      "source": [
        "# Agora, estimando com os 3 preditores ao mesmo tempo\n",
        "model_complete = sms.ols(formula=\"sales ~ TV + radio + newspaper\", data=adv).fit()\n",
        "print(model_complete.summary())"
      ],
      "execution_count": 9,
      "outputs": [
        {
          "output_type": "stream",
          "text": [
            "                            OLS Regression Results                            \n",
            "==============================================================================\n",
            "Dep. Variable:                  sales   R-squared:                       0.897\n",
            "Model:                            OLS   Adj. R-squared:                  0.896\n",
            "Method:                 Least Squares   F-statistic:                     570.3\n",
            "Date:                Wed, 27 Feb 2019   Prob (F-statistic):           1.58e-96\n",
            "Time:                        19:13:28   Log-Likelihood:                -386.18\n",
            "No. Observations:                 200   AIC:                             780.4\n",
            "Df Residuals:                     196   BIC:                             793.6\n",
            "Df Model:                           3                                         \n",
            "Covariance Type:            nonrobust                                         \n",
            "==============================================================================\n",
            "                 coef    std err          t      P>|t|      [0.025      0.975]\n",
            "------------------------------------------------------------------------------\n",
            "Intercept      2.9389      0.312      9.422      0.000       2.324       3.554\n",
            "TV             0.0458      0.001     32.809      0.000       0.043       0.049\n",
            "radio          0.1885      0.009     21.893      0.000       0.172       0.206\n",
            "newspaper     -0.0010      0.006     -0.177      0.860      -0.013       0.011\n",
            "==============================================================================\n",
            "Omnibus:                       60.414   Durbin-Watson:                   2.084\n",
            "Prob(Omnibus):                  0.000   Jarque-Bera (JB):              151.241\n",
            "Skew:                          -1.327   Prob(JB):                     1.44e-33\n",
            "Kurtosis:                       6.332   Cond. No.                         454.\n",
            "==============================================================================\n",
            "\n",
            "Warnings:\n",
            "[1] Standard Errors assume that the covariance matrix of the errors is correctly specified.\n"
          ],
          "name": "stdout"
        }
      ]
    },
    {
      "metadata": {
        "id": "7ZaxtUpiYUMC",
        "colab_type": "text"
      },
      "cell_type": "markdown",
      "source": [
        "Perceba que o efeito da variável `newspaper` **desaparece**.  Isso acontece porque quando estimamos o efeito de newspaper controlando pelas outras variáveis, percebemos que o efeito de newspaper na verdade era relacionado à variável rádio devido ao fato das duas possuírem correlação. O efeito de newspaper estimado na regressão simples era, portanto, **efeito espúrio**. \n",
        "\n",
        "Vamos verificar a matriz de correlação dessas variáveis:"
      ]
    },
    {
      "metadata": {
        "id": "I6MDgsQKYEC0",
        "colab_type": "code",
        "colab": {
          "base_uri": "https://localhost:8080/",
          "height": 143
        },
        "outputId": "1cb8c2c6-c134-4359-cbb0-065b45ff63b6"
      },
      "cell_type": "code",
      "source": [
        "adv[[\"TV\", \"radio\", \"newspaper\"]].corr()"
      ],
      "execution_count": 11,
      "outputs": [
        {
          "output_type": "execute_result",
          "data": {
            "text/html": [
              "<div>\n",
              "<style scoped>\n",
              "    .dataframe tbody tr th:only-of-type {\n",
              "        vertical-align: middle;\n",
              "    }\n",
              "\n",
              "    .dataframe tbody tr th {\n",
              "        vertical-align: top;\n",
              "    }\n",
              "\n",
              "    .dataframe thead th {\n",
              "        text-align: right;\n",
              "    }\n",
              "</style>\n",
              "<table border=\"1\" class=\"dataframe\">\n",
              "  <thead>\n",
              "    <tr style=\"text-align: right;\">\n",
              "      <th></th>\n",
              "      <th>TV</th>\n",
              "      <th>radio</th>\n",
              "      <th>newspaper</th>\n",
              "    </tr>\n",
              "  </thead>\n",
              "  <tbody>\n",
              "    <tr>\n",
              "      <th>TV</th>\n",
              "      <td>1.000000</td>\n",
              "      <td>0.054809</td>\n",
              "      <td>0.056648</td>\n",
              "    </tr>\n",
              "    <tr>\n",
              "      <th>radio</th>\n",
              "      <td>0.054809</td>\n",
              "      <td>1.000000</td>\n",
              "      <td>0.354104</td>\n",
              "    </tr>\n",
              "    <tr>\n",
              "      <th>newspaper</th>\n",
              "      <td>0.056648</td>\n",
              "      <td>0.354104</td>\n",
              "      <td>1.000000</td>\n",
              "    </tr>\n",
              "  </tbody>\n",
              "</table>\n",
              "</div>"
            ],
            "text/plain": [
              "                 TV     radio  newspaper\n",
              "TV         1.000000  0.054809   0.056648\n",
              "radio      0.054809  1.000000   0.354104\n",
              "newspaper  0.056648  0.354104   1.000000"
            ]
          },
          "metadata": {
            "tags": []
          },
          "execution_count": 11
        }
      ]
    },
    {
      "metadata": {
        "id": "wWnWoZnMtn7Z",
        "colab_type": "text"
      },
      "cell_type": "markdown",
      "source": [
        "Perceba que, enquanto os pares TV-Radio e TV-Newspaper tem uma correlação baixa, o par Radio-Newpaper tem uma correlação razoável (0,35).\n",
        "\n",
        "Vamos também observar os intervalos de confiança dos estimadores:"
      ]
    },
    {
      "metadata": {
        "id": "xZ59MYKQtu6Z",
        "colab_type": "code",
        "colab": {
          "base_uri": "https://localhost:8080/",
          "height": 175
        },
        "outputId": "970c8b64-8ac7-478e-e879-8482964f819d"
      },
      "cell_type": "code",
      "source": [
        "model_complete.conf_int()"
      ],
      "execution_count": 26,
      "outputs": [
        {
          "output_type": "execute_result",
          "data": {
            "text/html": [
              "<div>\n",
              "<style scoped>\n",
              "    .dataframe tbody tr th:only-of-type {\n",
              "        vertical-align: middle;\n",
              "    }\n",
              "\n",
              "    .dataframe tbody tr th {\n",
              "        vertical-align: top;\n",
              "    }\n",
              "\n",
              "    .dataframe thead th {\n",
              "        text-align: right;\n",
              "    }\n",
              "</style>\n",
              "<table border=\"1\" class=\"dataframe\">\n",
              "  <thead>\n",
              "    <tr style=\"text-align: right;\">\n",
              "      <th></th>\n",
              "      <th>0</th>\n",
              "      <th>1</th>\n",
              "    </tr>\n",
              "  </thead>\n",
              "  <tbody>\n",
              "    <tr>\n",
              "      <th>Intercept</th>\n",
              "      <td>2.323762</td>\n",
              "      <td>3.554016</td>\n",
              "    </tr>\n",
              "    <tr>\n",
              "      <th>TV</th>\n",
              "      <td>0.043014</td>\n",
              "      <td>0.048516</td>\n",
              "    </tr>\n",
              "    <tr>\n",
              "      <th>radio</th>\n",
              "      <td>0.171547</td>\n",
              "      <td>0.205513</td>\n",
              "    </tr>\n",
              "    <tr>\n",
              "      <th>newspaper</th>\n",
              "      <td>-0.012616</td>\n",
              "      <td>0.010541</td>\n",
              "    </tr>\n",
              "  </tbody>\n",
              "</table>\n",
              "</div>"
            ],
            "text/plain": [
              "                  0         1\n",
              "Intercept  2.323762  3.554016\n",
              "TV         0.043014  0.048516\n",
              "radio      0.171547  0.205513\n",
              "newspaper -0.012616  0.010541"
            ]
          },
          "metadata": {
            "tags": []
          },
          "execution_count": 26
        }
      ]
    },
    {
      "metadata": {
        "id": "XY7kFY1IaFnq",
        "colab_type": "text"
      },
      "cell_type": "markdown",
      "source": [
        "Agora, vamos usar nosso modelo para fazer predições."
      ]
    },
    {
      "metadata": {
        "id": "-rkd8RxgaSca",
        "colab_type": "code",
        "colab": {
          "base_uri": "https://localhost:8080/",
          "height": 625
        },
        "outputId": "4ae81715-9cdc-4684-e4e1-7ea7a11899c4"
      },
      "cell_type": "code",
      "source": [
        "yhat = model_complete.get_prediction()\n",
        "print(\"Predictions:\")\n",
        "print(yhat.predicted_mean)"
      ],
      "execution_count": 22,
      "outputs": [
        {
          "output_type": "stream",
          "text": [
            "Predictions:\n",
            "[20.52397441 12.33785482 12.30767078 17.59782951 13.18867186 12.47834763\n",
            " 11.72975995 12.12295317  3.72734086 12.55084872  7.0322992  17.28512918\n",
            " 10.57712073  8.82630048 18.43436638 20.81929952 12.82365674 23.22495716\n",
            "  9.95168206 14.16607293 18.10076728 14.7405382   6.4891503  16.5459329\n",
            "  8.14651887 15.6100386  14.98951429 17.05167344 19.41053803  9.14402389\n",
            " 21.6339338  11.3460929   7.63888314 18.86426829  7.57483051 17.00682618\n",
            " 23.40590052 15.62347779  9.90868103 20.44761039 16.37766467 17.2959832\n",
            " 21.59580326 13.96385684  8.88787996 15.16152314  8.87338673 21.7226299\n",
            " 16.26362018  8.1681656  12.63121132  9.33981296 20.66297563 19.94469957\n",
            " 20.37443008 21.2926106   8.52771254 12.77458802 21.89805198 18.13348698\n",
            "  5.74215558 22.89067208 16.78426073 13.21069202 16.97773556  7.84904532\n",
            "  9.01603163 12.0370073  18.97657924 21.10891244 17.77949782 10.62693815\n",
            " 10.36684881  9.90298206 17.32931197 11.85832174  4.47758904 13.81190223\n",
            "  8.81331353  9.67530328 11.44592364 14.64794093 10.17840799 14.42184212\n",
            " 20.78136464 15.18140789 11.59870739 15.59378475 11.71127101 16.92225511\n",
            "  9.99922965  4.49631598 19.15639616 21.22757378 10.48212385 16.31492112\n",
            " 12.63571716 15.33707782 24.11860723 16.94035021 13.87595844 23.24248685\n",
            " 17.64409385 14.76221142 20.30110878 17.93641467  6.12602215  7.10850249\n",
            "  3.58725841 19.69293106 14.7598741  21.14027498 13.88060985 16.40377623\n",
            " 15.30509593 12.91968895 11.97874744  6.5707774  15.56609348  6.82006767\n",
            " 14.41010605  7.83807642 13.6264571  15.0827909  19.45441306  9.12734958\n",
            " 10.57717411  6.599669   22.25549161  7.88410649 10.4276871  15.57779819\n",
            "  8.44915012 19.26692307 11.8368039  14.00141385 11.45348627 20.85125198\n",
            "  9.76842795 19.67547632  9.48964097 18.39902932 19.24986927  8.76480262\n",
            " 10.09133403  9.70853872 15.29422368 23.26086103 12.26335941  9.8272711\n",
            " 18.36720534 10.0095377  16.3600003  18.22390132 15.50161696  5.3075589\n",
            " 15.38485192 10.0143112  10.38419866 12.39914823 14.21383298 13.55914568\n",
            " 14.94678206 17.35163608 11.0682946  14.22372138 10.82439531 13.36324677\n",
            " 17.1861428  17.9415563   7.39497997 14.35827373  7.60769238 11.97093887\n",
            " 13.74435742 24.78687031 19.9793727  12.1620464  16.01099722 12.38455495\n",
            " 10.5871997  13.92809918  6.55467    24.13310013 18.53852096 20.80301059\n",
            "  9.69137313 17.07644223 18.64430648  6.05162411 12.4891591   8.42401933\n",
            "  4.46622956 18.48695797 16.49530044  5.37034248  8.16531236 12.78592082\n",
            " 23.76732149 15.17319554]\n"
          ],
          "name": "stdout"
        }
      ]
    },
    {
      "metadata": {
        "id": "EIlos4fVdXsS",
        "colab_type": "code",
        "colab": {
          "base_uri": "https://localhost:8080/",
          "height": 3508
        },
        "outputId": "6c71e1db-02ce-449b-c499-4c7699e66068"
      },
      "cell_type": "code",
      "source": [
        "print(\"Confidence Intervals:\")\n",
        "print(yhat.conf_int())"
      ],
      "execution_count": 24,
      "outputs": [
        {
          "output_type": "stream",
          "text": [
            "Confidence Intervals:\n",
            "[[19.99626571 21.05168311]\n",
            " [11.87464876 12.80106088]\n",
            " [11.64932004 12.96602152]\n",
            " [17.16942909 18.02622994]\n",
            " [12.67900667 13.69833705]\n",
            " [11.75402892 13.20266635]\n",
            " [11.33038649 12.12913341]\n",
            " [11.80438956 12.44151677]\n",
            " [ 3.14478088  4.30990084]\n",
            " [12.11556574 12.98613171]\n",
            " [ 6.61204334  7.45255506]\n",
            " [16.84732814 17.72293022]\n",
            " [ 9.99721407 11.15702739]\n",
            " [ 8.42453877  9.22806219]\n",
            " [18.09689396 18.77183881]\n",
            " [20.34009554 21.29850349]\n",
            " [11.8469578  13.80035569]\n",
            " [22.69494485 23.75496946]\n",
            " [ 9.61171822 10.2916459 ]\n",
            " [13.89410276 14.4380431 ]\n",
            " [17.71327214 18.48826242]\n",
            " [14.28398237 15.19709403]\n",
            " [ 5.96231839  7.01598222]\n",
            " [16.20198977 16.88987602]\n",
            " [ 7.77416659  8.51887115]\n",
            " [15.09348267 16.12659454]\n",
            " [14.63737507 15.34165351]\n",
            " [16.68013939 17.42320748]\n",
            " [19.02273501 19.79834104]\n",
            " [ 8.77103008  9.51701771]\n",
            " [21.15545795 22.11240965]\n",
            " [11.04742991 11.6447559 ]\n",
            " [ 7.18590745  8.09185883]\n",
            " [18.33118254 19.39735404]\n",
            " [ 7.11885321  8.03080782]\n",
            " [16.42231843 17.59133393]\n",
            " [22.73880261 24.07299842]\n",
            " [15.09701781 16.14993776]\n",
            " [ 9.52991581 10.28744626]\n",
            " [20.05014556 20.84507523]\n",
            " [16.09639186 16.65893748]\n",
            " [17.00025286 17.59171354]\n",
            " [20.99545709 22.19614942]\n",
            " [13.58494926 14.34276442]\n",
            " [ 8.44975794  9.32600197]\n",
            " [14.91332978 15.4097165 ]\n",
            " [ 8.49550234  9.25127113]\n",
            " [21.20952116 22.23573863]\n",
            " [15.82974455 16.69749581]\n",
            " [ 7.77357669  8.56275452]\n",
            " [12.17271241 13.08971024]\n",
            " [ 8.93170951  9.74791641]\n",
            " [20.24883278 21.07711848]\n",
            " [19.46723581 20.42216333]\n",
            " [19.91900069 20.82985947]\n",
            " [20.76945608 21.81576513]\n",
            " [ 8.05391869  9.0015064 ]\n",
            " [12.49420663 13.05496942]\n",
            " [21.38831138 22.40779258]\n",
            " [17.71147125 18.55550272]\n",
            " [ 5.26564721  6.21866396]\n",
            " [22.37936262 23.40198154]\n",
            " [16.41248332 17.15603814]\n",
            " [12.80397419 13.61740985]\n",
            " [16.56168302 17.39378811]\n",
            " [ 7.39247331  8.30561733]\n",
            " [ 8.50414548  9.52791779]\n",
            " [11.70828874 12.36572585]\n",
            " [18.54288109 19.41027739]\n",
            " [20.63820112 21.57962375]\n",
            " [17.48034495 18.07865068]\n",
            " [10.32783301 10.92604329]\n",
            " [ 9.89273525 10.84096237]\n",
            " [ 9.51902979 10.28693433]\n",
            " [16.96081777 17.69780616]\n",
            " [11.0644138  12.65222968]\n",
            " [ 3.95777201  4.99740608]\n",
            " [13.4719352  14.15186926]\n",
            " [ 8.27030437  9.35632268]\n",
            " [ 9.32670661 10.02389996]\n",
            " [11.11601407 11.77583321]\n",
            " [14.14474797 15.15113389]\n",
            " [ 9.86591343 10.49090256]\n",
            " [13.94486814 14.8988161 ]\n",
            " [20.34726689 21.21546238]\n",
            " [14.66748112 15.69533466]\n",
            " [11.23312038 11.96429441]\n",
            " [15.12300197 16.06456753]\n",
            " [11.14338563 12.27915638]\n",
            " [16.44063907 17.40387114]\n",
            " [ 9.60079395 10.39766535]\n",
            " [ 3.95045298  5.04217899]\n",
            " [18.72769299 19.58509933]\n",
            " [20.65422515 21.80092242]\n",
            " [10.14269952 10.82154819]\n",
            " [15.97280462 16.65703763]\n",
            " [12.17975222 13.0916821 ]\n",
            " [15.06172405 15.6124316 ]\n",
            " [23.57128045 24.66593401]\n",
            " [16.55570518 17.32499524]\n",
            " [13.32512074 14.42679613]\n",
            " [22.36155411 24.12341958]\n",
            " [17.15099461 18.13719308]\n",
            " [14.45971906 15.06470378]\n",
            " [19.77224406 20.8299735 ]\n",
            " [17.45787117 18.41495818]\n",
            " [ 5.673785    6.5782593 ]\n",
            " [ 6.65035144  7.56665353]\n",
            " [ 3.0241821   4.15033472]\n",
            " [19.19272613 20.193136  ]\n",
            " [14.20225746 15.31749073]\n",
            " [20.68766652 21.59288344]\n",
            " [13.48344808 14.27777163]\n",
            " [16.03477107 16.77278139]\n",
            " [14.80868287 15.80150898]\n",
            " [12.50630824 13.33306966]\n",
            " [11.70363832 12.25385655]\n",
            " [ 6.10766194  7.03389286]\n",
            " [14.9818273  16.15035965]\n",
            " [ 6.38568053  7.25445481]\n",
            " [14.11931626 14.70089584]\n",
            " [ 7.34484352  8.33130932]\n",
            " [13.15646081 14.09645339]\n",
            " [14.67149551 15.49408629]\n",
            " [18.88935651 20.01946962]\n",
            " [ 8.79167992  9.46301925]\n",
            " [10.03163224 11.12271599]\n",
            " [ 6.12169488  7.07764311]\n",
            " [21.56036132 22.95062191]\n",
            " [ 7.44852158  8.3196914 ]\n",
            " [ 9.78899248 11.06638172]\n",
            " [14.99385267 16.16174372]\n",
            " [ 7.88249254  9.01580769]\n",
            " [18.90915774 19.6246884 ]\n",
            " [11.27041143 12.40319636]\n",
            " [13.34427961 14.65854809]\n",
            " [10.86592317 12.04104936]\n",
            " [20.33638662 21.36611735]\n",
            " [ 9.37512575 10.16173016]\n",
            " [19.05658419 20.29436845]\n",
            " [ 9.1302426   9.84903934]\n",
            " [17.84837296 18.94968568]\n",
            " [18.90668752 19.59305101]\n",
            " [ 8.35613393  9.17347131]\n",
            " [ 9.75344155 10.42922651]\n",
            " [ 9.27856561 10.13851184]\n",
            " [14.82482728 15.76362007]\n",
            " [22.73111867 23.79060339]\n",
            " [11.69690038 12.82981844]\n",
            " [ 9.43809503 10.21644717]\n",
            " [17.88573032 18.84868036]\n",
            " [ 9.55627767 10.46279773]\n",
            " [16.02440915 16.69559146]\n",
            " [17.86841976 18.57938288]\n",
            " [15.14838602 15.8548479 ]\n",
            " [ 4.78129008  5.83382772]\n",
            " [14.93920656 15.83049727]\n",
            " [ 9.58896983 10.43965257]\n",
            " [ 9.87424634 10.89415098]\n",
            " [12.1370997  12.66119676]\n",
            " [13.95230405 14.47536191]\n",
            " [13.17286387 13.9454275 ]\n",
            " [14.66948621 15.22407791]\n",
            " [16.87666142 17.82661073]\n",
            " [10.70041066 11.43617854]\n",
            " [13.34930057 15.09814218]\n",
            " [10.30213601 11.34665461]\n",
            " [12.95020028 13.77629327]\n",
            " [16.75874392 17.61354169]\n",
            " [17.39897194 18.48414065]\n",
            " [ 6.99624147  7.79371846]\n",
            " [14.03871068 14.67783678]\n",
            " [ 7.16730103  8.04808373]\n",
            " [11.59846505 12.3434127 ]\n",
            " [13.2824032  14.20631164]\n",
            " [24.20881202 25.3649286 ]\n",
            " [19.56584393 20.39290148]\n",
            " [11.7851013  12.5389915 ]\n",
            " [15.45662291 16.56537154]\n",
            " [12.05475912 12.71435078]\n",
            " [10.15937519 11.01502421]\n",
            " [13.49859995 14.35759842]\n",
            " [ 6.10863712  7.00070287]\n",
            " [23.49429452 24.77190574]\n",
            " [18.15986686 18.91717505]\n",
            " [20.28861685 21.31740433]\n",
            " [ 9.2733569  10.10938936]\n",
            " [16.74664223 17.40624223]\n",
            " [18.0942855  19.19432746]\n",
            " [ 5.59959251  6.5036557 ]\n",
            " [11.87458031 13.10373789]\n",
            " [ 8.0121084   8.83593025]\n",
            " [ 3.93390899  4.99855013]\n",
            " [17.9152651  19.05865084]\n",
            " [16.02412403 16.96647685]\n",
            " [ 4.88506528  5.85561969]\n",
            " [ 7.74371227  8.58691245]\n",
            " [12.39466672 13.17717491]\n",
            " [23.17216345 24.36247953]\n",
            " [14.72516941 15.62122166]]\n"
          ],
          "name": "stdout"
        }
      ]
    },
    {
      "metadata": {
        "id": "ah56j4wmdoUR",
        "colab_type": "text"
      },
      "cell_type": "markdown",
      "source": [
        "# Exercício\n",
        "\n",
        "### 1\n",
        "\n",
        "Abra o banco de dados `Boston` e estime 3 regressões:\n",
        "\n",
        "- A primeira prevendo `medv` usando como preditor `lstat`;\n",
        "- A segunda prevendo `medv` usando como preditor `age`;\n",
        "- A terceira usando ambos os preditores.\n",
        "\n",
        "O que podemos dizer sobre o comportamento dos coeficientes estimados? E sobre o ajuste dos modelos?\n",
        "\n",
        "### 2\n",
        "\n",
        "Estime uma regressão usando todas as variáveis como preditoras. Todas são úteis para prever `medv`? Quais você deixaria e quais tiraria? Por quê?\n",
        "\n",
        "Como foi o ajuste desse modelo?\n",
        "\n",
        "Agora tire as variáveis que você considerou que não ajudam a estimação de `medv`. O que aconteceu com o ajuste do modelo?"
      ]
    },
    {
      "metadata": {
        "id": "DQwg9E-PeeSx",
        "colab_type": "code",
        "colab": {
          "base_uri": "https://localhost:8080/",
          "height": 292
        },
        "outputId": "d9d41a55-4b39-4d74-ae3c-f27bba4b7075"
      },
      "cell_type": "code",
      "source": [
        "# Lendo os dados\n",
        "boston = pd.DataFrame.from_csv(\"https://raw.githubusercontent.com/selva86/datasets/master/BostonHousing.csv\")\n",
        "boston.head()"
      ],
      "execution_count": 27,
      "outputs": [
        {
          "output_type": "stream",
          "text": [
            "/usr/local/lib/python3.6/dist-packages/ipykernel_launcher.py:1: FutureWarning: from_csv is deprecated. Please use read_csv(...) instead. Note that some of the default arguments are different, so please refer to the documentation for from_csv when changing your function calls\n",
            "  \"\"\"Entry point for launching an IPython kernel.\n"
          ],
          "name": "stderr"
        },
        {
          "output_type": "execute_result",
          "data": {
            "text/html": [
              "<div>\n",
              "<style scoped>\n",
              "    .dataframe tbody tr th:only-of-type {\n",
              "        vertical-align: middle;\n",
              "    }\n",
              "\n",
              "    .dataframe tbody tr th {\n",
              "        vertical-align: top;\n",
              "    }\n",
              "\n",
              "    .dataframe thead th {\n",
              "        text-align: right;\n",
              "    }\n",
              "</style>\n",
              "<table border=\"1\" class=\"dataframe\">\n",
              "  <thead>\n",
              "    <tr style=\"text-align: right;\">\n",
              "      <th></th>\n",
              "      <th>zn</th>\n",
              "      <th>indus</th>\n",
              "      <th>chas</th>\n",
              "      <th>nox</th>\n",
              "      <th>rm</th>\n",
              "      <th>age</th>\n",
              "      <th>dis</th>\n",
              "      <th>rad</th>\n",
              "      <th>tax</th>\n",
              "      <th>ptratio</th>\n",
              "      <th>b</th>\n",
              "      <th>lstat</th>\n",
              "      <th>medv</th>\n",
              "    </tr>\n",
              "    <tr>\n",
              "      <th>crim</th>\n",
              "      <th></th>\n",
              "      <th></th>\n",
              "      <th></th>\n",
              "      <th></th>\n",
              "      <th></th>\n",
              "      <th></th>\n",
              "      <th></th>\n",
              "      <th></th>\n",
              "      <th></th>\n",
              "      <th></th>\n",
              "      <th></th>\n",
              "      <th></th>\n",
              "      <th></th>\n",
              "    </tr>\n",
              "  </thead>\n",
              "  <tbody>\n",
              "    <tr>\n",
              "      <th>0.00632</th>\n",
              "      <td>18.0</td>\n",
              "      <td>2.31</td>\n",
              "      <td>0</td>\n",
              "      <td>0.538</td>\n",
              "      <td>6.575</td>\n",
              "      <td>65.2</td>\n",
              "      <td>4.0900</td>\n",
              "      <td>1</td>\n",
              "      <td>296</td>\n",
              "      <td>15.3</td>\n",
              "      <td>396.90</td>\n",
              "      <td>4.98</td>\n",
              "      <td>24.0</td>\n",
              "    </tr>\n",
              "    <tr>\n",
              "      <th>0.02731</th>\n",
              "      <td>0.0</td>\n",
              "      <td>7.07</td>\n",
              "      <td>0</td>\n",
              "      <td>0.469</td>\n",
              "      <td>6.421</td>\n",
              "      <td>78.9</td>\n",
              "      <td>4.9671</td>\n",
              "      <td>2</td>\n",
              "      <td>242</td>\n",
              "      <td>17.8</td>\n",
              "      <td>396.90</td>\n",
              "      <td>9.14</td>\n",
              "      <td>21.6</td>\n",
              "    </tr>\n",
              "    <tr>\n",
              "      <th>0.02729</th>\n",
              "      <td>0.0</td>\n",
              "      <td>7.07</td>\n",
              "      <td>0</td>\n",
              "      <td>0.469</td>\n",
              "      <td>7.185</td>\n",
              "      <td>61.1</td>\n",
              "      <td>4.9671</td>\n",
              "      <td>2</td>\n",
              "      <td>242</td>\n",
              "      <td>17.8</td>\n",
              "      <td>392.83</td>\n",
              "      <td>4.03</td>\n",
              "      <td>34.7</td>\n",
              "    </tr>\n",
              "    <tr>\n",
              "      <th>0.03237</th>\n",
              "      <td>0.0</td>\n",
              "      <td>2.18</td>\n",
              "      <td>0</td>\n",
              "      <td>0.458</td>\n",
              "      <td>6.998</td>\n",
              "      <td>45.8</td>\n",
              "      <td>6.0622</td>\n",
              "      <td>3</td>\n",
              "      <td>222</td>\n",
              "      <td>18.7</td>\n",
              "      <td>394.63</td>\n",
              "      <td>2.94</td>\n",
              "      <td>33.4</td>\n",
              "    </tr>\n",
              "    <tr>\n",
              "      <th>0.06905</th>\n",
              "      <td>0.0</td>\n",
              "      <td>2.18</td>\n",
              "      <td>0</td>\n",
              "      <td>0.458</td>\n",
              "      <td>7.147</td>\n",
              "      <td>54.2</td>\n",
              "      <td>6.0622</td>\n",
              "      <td>3</td>\n",
              "      <td>222</td>\n",
              "      <td>18.7</td>\n",
              "      <td>396.90</td>\n",
              "      <td>5.33</td>\n",
              "      <td>36.2</td>\n",
              "    </tr>\n",
              "  </tbody>\n",
              "</table>\n",
              "</div>"
            ],
            "text/plain": [
              "           zn  indus  chas    nox     rm   age     dis  rad  tax  ptratio  \\\n",
              "crim                                                                        \n",
              "0.00632  18.0   2.31     0  0.538  6.575  65.2  4.0900    1  296     15.3   \n",
              "0.02731   0.0   7.07     0  0.469  6.421  78.9  4.9671    2  242     17.8   \n",
              "0.02729   0.0   7.07     0  0.469  7.185  61.1  4.9671    2  242     17.8   \n",
              "0.03237   0.0   2.18     0  0.458  6.998  45.8  6.0622    3  222     18.7   \n",
              "0.06905   0.0   2.18     0  0.458  7.147  54.2  6.0622    3  222     18.7   \n",
              "\n",
              "              b  lstat  medv  \n",
              "crim                          \n",
              "0.00632  396.90   4.98  24.0  \n",
              "0.02731  396.90   9.14  21.6  \n",
              "0.02729  392.83   4.03  34.7  \n",
              "0.03237  394.63   2.94  33.4  \n",
              "0.06905  396.90   5.33  36.2  "
            ]
          },
          "metadata": {
            "tags": []
          },
          "execution_count": 27
        }
      ]
    }
  ]
}